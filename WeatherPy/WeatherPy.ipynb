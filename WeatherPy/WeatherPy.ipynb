{
 "cells": [
  {
   "cell_type": "markdown",
   "metadata": {},
   "source": [
    "# WeatherPy\n",
    "----\n",
    "#### Analyis\n",
    "Observed Trends\n",
    "1.  Increasing latitude in the northern hemisphere directly correlates with decreasing temperatures; but has the opposite effect of increasing temperatures in the southern hemisphere\n",
    "2.  Excluding temperature it is recommended that another variable other than latitude be tested against: wind speed, cloudiness, and humidity\n",
    "3.  Although weak, there is a stronger correlation in the southern hemisphere for latitude vs cloudiness than in the northern hemisphere"
   ]
  },
  {
   "cell_type": "code",
   "execution_count": 1,
   "metadata": {
    "scrolled": true
   },
   "outputs": [],
   "source": [
    "# Dependencies and Setup\n",
    "import matplotlib.pyplot as plt\n",
    "import pandas as pd\n",
    "import numpy as np\n",
    "import requests\n",
    "import time\n",
    "from scipy.stats import linregress\n",
    "\n",
    "# Import API key\n",
    "from api_keys import weather_api_key\n",
    "\n",
    "# Incorporated citipy to determine city based on latitude and longitude\n",
    "from citipy import citipy\n",
    "\n",
    "# Output File (CSV)\n",
    "output_data_file = \"output_data/cities.csv\"\n",
    "\n",
    "# Range of latitudes and longitudes\n",
    "lat_range = (-90, 90)\n",
    "lng_range = (-180, 180)"
   ]
  },
  {
   "cell_type": "markdown",
   "metadata": {},
   "source": [
    "## Generate Cities List"
   ]
  },
  {
   "cell_type": "code",
   "execution_count": 2,
   "metadata": {},
   "outputs": [
    {
     "data": {
      "text/plain": [
       "641"
      ]
     },
     "execution_count": 2,
     "metadata": {},
     "output_type": "execute_result"
    }
   ],
   "source": [
    "# List for holding lat_lngs and cities\n",
    "lat_lngs = []\n",
    "cities = []\n",
    "\n",
    "# Create a set of random lat and lng combinations\n",
    "lats = np.random.uniform(lat_range[0], lat_range[1], size=1500)\n",
    "lngs = np.random.uniform(lng_range[0], lng_range[1], size=1500)\n",
    "lat_lngs = zip(lats, lngs)\n",
    "\n",
    "# Identify nearest city for each lat, lng combination\n",
    "for lat_lng in lat_lngs:\n",
    "    city = citipy.nearest_city(lat_lng[0], lat_lng[1]).city_name\n",
    "    \n",
    "    # If the city is unique, then add it to a our cities list\n",
    "    if city not in cities:\n",
    "        cities.append(city)\n",
    "\n",
    "# Print the city count to confirm sufficient count\n",
    "len(cities)"
   ]
  },
  {
   "cell_type": "markdown",
   "metadata": {},
   "source": [
    "### Perform API Calls\n",
    "* Perform a weather check on each city using a series of successive API calls.\n",
    "* Include a print log of each city as it'sbeing processed (with the city number and city name).\n"
   ]
  },
  {
   "cell_type": "code",
   "execution_count": 3,
   "metadata": {
    "scrolled": true
   },
   "outputs": [
    {
     "name": "stdout",
     "output_type": "stream",
     "text": [
      "Beginning Data Retrieval\n",
      "-----------------------------\n",
      "Processing Record 1 of Set 1 | clyde river\n",
      "Processing Record 2 of Set 1 | tabuk\n",
      "Processing Record 3 of Set 1 | punta arenas\n",
      "Processing Record 4 of Set 1 | busselton\n",
      "Processing Record 5 of Set 1 | port-gentil\n",
      "City not found. Skipping...\n",
      "Processing Record 6 of Set 1 | hermanus\n",
      "Processing Record 7 of Set 1 | rikitea\n",
      "Processing Record 8 of Set 1 | port hardy\n",
      "Processing Record 9 of Set 1 | jamestown\n",
      "Processing Record 10 of Set 1 | cape town\n",
      "Processing Record 11 of Set 1 | chapais\n",
      "Processing Record 12 of Set 1 | margate\n",
      "Processing Record 13 of Set 1 | tautira\n",
      "Processing Record 14 of Set 1 | zhigansk\n",
      "Processing Record 15 of Set 1 | nhulunbuy\n",
      "Processing Record 16 of Set 1 | ushuaia\n",
      "Processing Record 17 of Set 1 | hobart\n",
      "Processing Record 18 of Set 1 | navalmoral de la mata\n",
      "Processing Record 19 of Set 1 | yenagoa\n",
      "Processing Record 20 of Set 1 | qaanaaq\n",
      "Processing Record 21 of Set 1 | rawson\n",
      "Processing Record 22 of Set 1 | carnarvon\n",
      "Processing Record 23 of Set 1 | albany\n",
      "Processing Record 24 of Set 1 | santa ana\n",
      "Processing Record 25 of Set 1 | rantoul\n",
      "City not found. Skipping...\n",
      "Processing Record 26 of Set 1 | torbay\n",
      "Processing Record 27 of Set 1 | beyneu\n",
      "Processing Record 28 of Set 1 | faanui\n",
      "Processing Record 29 of Set 1 | flinders\n",
      "Processing Record 30 of Set 1 | san rafael\n",
      "Processing Record 31 of Set 1 | port alfred\n",
      "City not found. Skipping...\n",
      "Processing Record 32 of Set 1 | norman wells\n",
      "Processing Record 33 of Set 1 | longyearbyen\n",
      "Processing Record 34 of Set 1 | jumilla\n",
      "Processing Record 35 of Set 1 | barrow\n",
      "Processing Record 36 of Set 1 | castro\n",
      "Processing Record 37 of Set 1 | ligayan\n",
      "Processing Record 38 of Set 1 | adrar\n",
      "Processing Record 39 of Set 1 | victoria\n",
      "Processing Record 40 of Set 1 | mataura\n",
      "Processing Record 41 of Set 1 | charleston\n",
      "Processing Record 42 of Set 1 | muyezerskiy\n",
      "Processing Record 43 of Set 1 | ribeira brava\n",
      "Processing Record 44 of Set 1 | lasa\n",
      "Processing Record 45 of Set 1 | ribeira grande\n",
      "Processing Record 46 of Set 1 | namibe\n",
      "Processing Record 47 of Set 1 | batagay\n",
      "Processing Record 48 of Set 1 | saint-philippe\n",
      "Processing Record 49 of Set 1 | florianopolis\n",
      "Processing Record 50 of Set 1 | kajiado\n",
      "Processing Record 0 of Set 2 | kodino\n",
      "Processing Record 1 of Set 2 | lebu\n",
      "Processing Record 2 of Set 2 | bambous virieux\n",
      "Processing Record 3 of Set 2 | atuona\n",
      "Processing Record 4 of Set 2 | cedar city\n",
      "Processing Record 5 of Set 2 | marmaris\n",
      "Processing Record 6 of Set 2 | alvdal\n",
      "Processing Record 7 of Set 2 | kodiak\n",
      "Processing Record 8 of Set 2 | saint-joseph\n",
      "Processing Record 9 of Set 2 | hilo\n",
      "City not found. Skipping...\n",
      "Processing Record 10 of Set 2 | bluff\n",
      "Processing Record 11 of Set 2 | tasiilaq\n",
      "Processing Record 12 of Set 2 | ponta do sol\n",
      "Processing Record 13 of Set 2 | teahupoo\n",
      "Processing Record 14 of Set 2 | anadyr\n",
      "Processing Record 15 of Set 2 | dingle\n",
      "Processing Record 16 of Set 2 | severo-kurilsk\n",
      "Processing Record 17 of Set 2 | awbari\n",
      "Processing Record 18 of Set 2 | green river\n",
      "City not found. Skipping...\n",
      "Processing Record 19 of Set 2 | kieta\n",
      "Processing Record 20 of Set 2 | kyshtovka\n",
      "Processing Record 21 of Set 2 | seoul\n",
      "Processing Record 22 of Set 2 | manduria\n",
      "Processing Record 23 of Set 2 | olafsvik\n",
      "City not found. Skipping...\n",
      "City not found. Skipping...\n",
      "Processing Record 24 of Set 2 | saldanha\n",
      "Processing Record 25 of Set 2 | mayumba\n",
      "Processing Record 26 of Set 2 | solnechnyy\n",
      "Processing Record 27 of Set 2 | paoua\n",
      "Processing Record 28 of Set 2 | reisterstown\n",
      "City not found. Skipping...\n",
      "Processing Record 29 of Set 2 | wanning\n",
      "Processing Record 30 of Set 2 | vaini\n",
      "Processing Record 31 of Set 2 | kapaa\n",
      "Processing Record 32 of Set 2 | acapulco\n",
      "Processing Record 33 of Set 2 | tuktoyaktuk\n",
      "Processing Record 34 of Set 2 | lethem\n",
      "Processing Record 35 of Set 2 | itarema\n",
      "Processing Record 36 of Set 2 | tuatapere\n",
      "Processing Record 37 of Set 2 | nikolskoye\n",
      "Processing Record 38 of Set 2 | metro\n",
      "City not found. Skipping...\n",
      "Processing Record 39 of Set 2 | mar del plata\n",
      "Processing Record 40 of Set 2 | kongolo\n",
      "Processing Record 41 of Set 2 | bredasdorp\n",
      "Processing Record 42 of Set 2 | muros\n",
      "Processing Record 43 of Set 2 | srednekolymsk\n",
      "Processing Record 44 of Set 2 | honiara\n",
      "Processing Record 45 of Set 2 | butaritari\n",
      "Processing Record 46 of Set 2 | upernavik\n",
      "Processing Record 47 of Set 2 | chardara\n",
      "Processing Record 48 of Set 2 | voznesenye\n",
      "Processing Record 49 of Set 2 | alofi\n",
      "Processing Record 50 of Set 2 | huangzhai\n",
      "Processing Record 0 of Set 3 | tilichiki\n",
      "Processing Record 1 of Set 3 | cervo\n",
      "Processing Record 2 of Set 3 | port keats\n",
      "Processing Record 3 of Set 3 | avarua\n",
      "Processing Record 4 of Set 3 | vestmanna\n",
      "Processing Record 5 of Set 3 | yatou\n",
      "Processing Record 6 of Set 3 | majene\n",
      "Processing Record 7 of Set 3 | tiksi\n",
      "Processing Record 8 of Set 3 | saint-augustin\n",
      "Processing Record 9 of Set 3 | bubaque\n",
      "Processing Record 10 of Set 3 | touros\n",
      "Processing Record 11 of Set 3 | elbistan\n",
      "Processing Record 12 of Set 3 | les escoumins\n",
      "Processing Record 13 of Set 3 | junagarh\n",
      "Processing Record 14 of Set 3 | vazante\n",
      "Processing Record 15 of Set 3 | harij\n",
      "Processing Record 16 of Set 3 | hun\n",
      "Processing Record 17 of Set 3 | sitka\n",
      "Processing Record 18 of Set 3 | sao jose da coroa grande\n",
      "Processing Record 19 of Set 3 | khatanga\n",
      "Processing Record 20 of Set 3 | quatre cocos\n",
      "Processing Record 21 of Set 3 | bestobe\n",
      "Processing Record 22 of Set 3 | belmonte\n",
      "Processing Record 23 of Set 3 | iqaluit\n",
      "Processing Record 24 of Set 3 | ibanda\n",
      "City not found. Skipping...\n",
      "Processing Record 25 of Set 3 | saskylakh\n",
      "Processing Record 26 of Set 3 | egvekinot\n",
      "Processing Record 27 of Set 3 | gigmoto\n",
      "Processing Record 28 of Set 3 | constitucion\n",
      "Processing Record 29 of Set 3 | mahebourg\n",
      "Processing Record 30 of Set 3 | talara\n",
      "Processing Record 31 of Set 3 | chokurdakh\n",
      "Processing Record 32 of Set 3 | kyrylivka\n",
      "City not found. Skipping...\n",
      "Processing Record 33 of Set 3 | toba\n",
      "Processing Record 34 of Set 3 | kano\n",
      "Processing Record 35 of Set 3 | san juan\n",
      "Processing Record 36 of Set 3 | lagoa\n",
      "Processing Record 37 of Set 3 | esperance\n",
      "Processing Record 38 of Set 3 | rampur hat\n",
      "Processing Record 39 of Set 3 | lewistown\n",
      "Processing Record 40 of Set 3 | huautla\n",
      "Processing Record 41 of Set 3 | provideniya\n",
      "Processing Record 42 of Set 3 | mayor pablo lagerenza\n",
      "Processing Record 43 of Set 3 | tarrega\n",
      "Processing Record 44 of Set 3 | mancio lima\n",
      "Processing Record 45 of Set 3 | maniitsoq\n",
      "Processing Record 46 of Set 3 | pevek\n",
      "Processing Record 47 of Set 3 | puerto ayora\n",
      "Processing Record 48 of Set 3 | hithadhoo\n",
      "Processing Record 49 of Set 3 | sekoma\n",
      "Processing Record 50 of Set 3 | khalkhal\n",
      "Processing Record 0 of Set 4 | kununurra\n",
      "City not found. Skipping...\n",
      "Processing Record 1 of Set 4 | shumikha\n",
      "Processing Record 2 of Set 4 | rocha\n",
      "Processing Record 3 of Set 4 | dikson\n",
      "Processing Record 4 of Set 4 | acari\n",
      "Processing Record 5 of Set 4 | east london\n",
      "Processing Record 6 of Set 4 | tura\n",
      "Processing Record 7 of Set 4 | beringovskiy\n",
      "Processing Record 8 of Set 4 | isangel\n",
      "Processing Record 9 of Set 4 | hervey bay\n",
      "Processing Record 10 of Set 4 | barcelos\n",
      "Processing Record 11 of Set 4 | quepos\n",
      "Processing Record 12 of Set 4 | buala\n",
      "City not found. Skipping...\n",
      "Processing Record 13 of Set 4 | ilulissat\n",
      "City not found. Skipping...\n",
      "City not found. Skipping...\n",
      "Processing Record 14 of Set 4 | bathsheba\n",
      "Processing Record 15 of Set 4 | bauchi\n",
      "Processing Record 16 of Set 4 | port elizabeth\n",
      "Processing Record 17 of Set 4 | kalemie\n",
      "Processing Record 18 of Set 4 | ruangwa\n",
      "Processing Record 19 of Set 4 | tiznit\n",
      "Processing Record 20 of Set 4 | cabo san lucas\n",
      "Processing Record 21 of Set 4 | kaitangata\n",
      "Processing Record 22 of Set 4 | haimen\n",
      "Processing Record 23 of Set 4 | avera\n",
      "Processing Record 24 of Set 4 | medeiros neto\n",
      "Processing Record 25 of Set 4 | korla\n",
      "Processing Record 26 of Set 4 | luanda\n",
      "Processing Record 27 of Set 4 | kaeo\n",
      "Processing Record 28 of Set 4 | baykit\n",
      "Processing Record 29 of Set 4 | shubarkuduk\n",
      "Processing Record 30 of Set 4 | fort-shevchenko\n",
      "Processing Record 31 of Set 4 | arraial do cabo\n",
      "Processing Record 32 of Set 4 | coquimbo\n",
      "Processing Record 33 of Set 4 | kavaratti\n",
      "Processing Record 34 of Set 4 | porvoo\n",
      "Processing Record 35 of Set 4 | formosa\n"
     ]
    },
    {
     "name": "stdout",
     "output_type": "stream",
     "text": [
      "Processing Record 36 of Set 4 | port lincoln\n",
      "Processing Record 37 of Set 4 | pilar\n",
      "Processing Record 38 of Set 4 | te anau\n",
      "Processing Record 39 of Set 4 | saryagash\n",
      "Processing Record 40 of Set 4 | new norfolk\n",
      "Processing Record 41 of Set 4 | mehamn\n",
      "Processing Record 42 of Set 4 | pisco\n",
      "Processing Record 43 of Set 4 | charyshskoye\n",
      "City not found. Skipping...\n",
      "Processing Record 44 of Set 4 | carutapera\n",
      "Processing Record 45 of Set 4 | talnakh\n",
      "Processing Record 46 of Set 4 | bengkulu\n",
      "Processing Record 47 of Set 4 | airai\n",
      "Processing Record 48 of Set 4 | kruisfontein\n",
      "Processing Record 49 of Set 4 | yellowknife\n",
      "Processing Record 50 of Set 4 | iracoubo\n",
      "Processing Record 0 of Set 5 | nichinan\n",
      "Processing Record 1 of Set 5 | georgetown\n",
      "Processing Record 2 of Set 5 | grand-santi\n",
      "Processing Record 3 of Set 5 | yerbogachen\n",
      "Processing Record 4 of Set 5 | sechura\n",
      "Processing Record 5 of Set 5 | qeshm\n",
      "Processing Record 6 of Set 5 | takoradi\n",
      "Processing Record 7 of Set 5 | hambantota\n",
      "Processing Record 8 of Set 5 | jacareacanga\n",
      "City not found. Skipping...\n",
      "Processing Record 9 of Set 5 | saint-pierre\n",
      "Processing Record 10 of Set 5 | krasnyy kut\n",
      "Processing Record 11 of Set 5 | bolshaya sosnova\n",
      "Processing Record 12 of Set 5 | tlachichuca\n",
      "Processing Record 13 of Set 5 | san cristobal\n",
      "Processing Record 14 of Set 5 | kahului\n",
      "City not found. Skipping...\n",
      "Processing Record 15 of Set 5 | nuuk\n",
      "Processing Record 16 of Set 5 | yuanping\n",
      "Processing Record 17 of Set 5 | krieglach\n",
      "Processing Record 18 of Set 5 | caravelas\n",
      "Processing Record 19 of Set 5 | ekhabi\n",
      "Processing Record 20 of Set 5 | lahij\n",
      "Processing Record 21 of Set 5 | russkiy\n",
      "Processing Record 22 of Set 5 | hirara\n",
      "Processing Record 23 of Set 5 | ndjole\n",
      "City not found. Skipping...\n",
      "Processing Record 24 of Set 5 | north bend\n",
      "City not found. Skipping...\n",
      "Processing Record 25 of Set 5 | bandarbeyla\n",
      "City not found. Skipping...\n",
      "Processing Record 26 of Set 5 | port shepstone\n",
      "Processing Record 27 of Set 5 | west bay\n",
      "Processing Record 28 of Set 5 | ajaccio\n",
      "Processing Record 29 of Set 5 | eureka\n",
      "Processing Record 30 of Set 5 | hasaki\n",
      "Processing Record 31 of Set 5 | cidreira\n",
      "City not found. Skipping...\n",
      "Processing Record 32 of Set 5 | waipawa\n",
      "Processing Record 33 of Set 5 | camara de lobos\n",
      "Processing Record 34 of Set 5 | kachug\n",
      "City not found. Skipping...\n",
      "City not found. Skipping...\n",
      "Processing Record 35 of Set 5 | kavieng\n",
      "Processing Record 36 of Set 5 | faya\n",
      "Processing Record 37 of Set 5 | sorland\n",
      "Processing Record 38 of Set 5 | san patricio\n",
      "Processing Record 39 of Set 5 | kempele\n",
      "Processing Record 40 of Set 5 | linkoping\n",
      "Processing Record 41 of Set 5 | zemio\n",
      "Processing Record 42 of Set 5 | berdigestyakh\n",
      "Processing Record 43 of Set 5 | paamiut\n",
      "Processing Record 44 of Set 5 | roald\n",
      "Processing Record 45 of Set 5 | alice springs\n",
      "Processing Record 46 of Set 5 | mantua\n",
      "Processing Record 47 of Set 5 | lata\n",
      "Processing Record 48 of Set 5 | toamasina\n",
      "Processing Record 49 of Set 5 | saint george\n",
      "Processing Record 50 of Set 5 | hofn\n",
      "Processing Record 0 of Set 6 | banda aceh\n",
      "Processing Record 1 of Set 6 | mandalgovi\n",
      "Processing Record 2 of Set 6 | rafsanjan\n",
      "Processing Record 3 of Set 6 | cockburn town\n",
      "Processing Record 4 of Set 6 | chara\n",
      "City not found. Skipping...\n",
      "Processing Record 5 of Set 6 | pelym\n",
      "Processing Record 6 of Set 6 | north battleford\n",
      "Processing Record 7 of Set 6 | bayan\n",
      "Processing Record 8 of Set 6 | sao filipe\n",
      "Processing Record 9 of Set 6 | arlit\n",
      "Processing Record 10 of Set 6 | surazh\n",
      "Processing Record 11 of Set 6 | sisimiut\n",
      "Processing Record 12 of Set 6 | kasongo-lunda\n",
      "Processing Record 13 of Set 6 | umtata\n",
      "Processing Record 14 of Set 6 | kloulklubed\n",
      "Processing Record 15 of Set 6 | mount gambier\n",
      "Processing Record 16 of Set 6 | quesnel\n",
      "Processing Record 17 of Set 6 | darnah\n",
      "Processing Record 18 of Set 6 | salalah\n",
      "Processing Record 19 of Set 6 | vilhena\n",
      "Processing Record 20 of Set 6 | souillac\n",
      "Processing Record 21 of Set 6 | sinjar\n",
      "Processing Record 22 of Set 6 | vardo\n",
      "Processing Record 23 of Set 6 | pasni\n",
      "Processing Record 24 of Set 6 | lavrentiya\n",
      "City not found. Skipping...\n",
      "Processing Record 25 of Set 6 | santa cruz de la palma\n",
      "Processing Record 26 of Set 6 | havre-saint-pierre\n",
      "Processing Record 27 of Set 6 | vitorino freire\n",
      "Processing Record 28 of Set 6 | katherine\n",
      "Processing Record 29 of Set 6 | le port\n",
      "Processing Record 30 of Set 6 | sarangani\n",
      "Processing Record 31 of Set 6 | gorodishche\n",
      "Processing Record 32 of Set 6 | pangnirtung\n",
      "City not found. Skipping...\n",
      "Processing Record 33 of Set 6 | yurginskoye\n",
      "Processing Record 34 of Set 6 | port-cartier\n",
      "Processing Record 35 of Set 6 | cairns\n",
      "Processing Record 36 of Set 6 | silifke\n",
      "City not found. Skipping...\n",
      "Processing Record 37 of Set 6 | thompson\n",
      "Processing Record 38 of Set 6 | san joaquin\n",
      "Processing Record 39 of Set 6 | vanimo\n",
      "Processing Record 40 of Set 6 | caxito\n",
      "Processing Record 41 of Set 6 | heihe\n",
      "Processing Record 42 of Set 6 | cherskiy\n",
      "Processing Record 43 of Set 6 | sefophe\n",
      "City not found. Skipping...\n",
      "Processing Record 44 of Set 6 | vila franca do campo\n",
      "Processing Record 45 of Set 6 | daru\n",
      "Processing Record 46 of Set 6 | ukholovo\n",
      "Processing Record 47 of Set 6 | bethel\n",
      "Processing Record 48 of Set 6 | hobyo\n",
      "Processing Record 49 of Set 6 | richards bay\n",
      "Processing Record 50 of Set 6 | primorsk\n",
      "Processing Record 0 of Set 7 | honningsvag\n",
      "City not found. Skipping...\n",
      "Processing Record 1 of Set 7 | ulladulla\n",
      "Processing Record 2 of Set 7 | udachnyy\n",
      "Processing Record 3 of Set 7 | yarensk\n",
      "Processing Record 4 of Set 7 | madang\n",
      "Processing Record 5 of Set 7 | dokka\n",
      "Processing Record 6 of Set 7 | pa sang\n",
      "Processing Record 7 of Set 7 | riyadh\n",
      "Processing Record 8 of Set 7 | ahipara\n",
      "Processing Record 9 of Set 7 | red bluff\n",
      "Processing Record 10 of Set 7 | kilindoni\n",
      "Processing Record 11 of Set 7 | lalsot\n",
      "Processing Record 12 of Set 7 | sola\n",
      "Processing Record 13 of Set 7 | ambilobe\n",
      "Processing Record 14 of Set 7 | geraldton\n",
      "Processing Record 15 of Set 7 | mengcheng\n",
      "Processing Record 16 of Set 7 | vallenar\n",
      "City not found. Skipping...\n",
      "Processing Record 17 of Set 7 | pak phanang\n",
      "Processing Record 18 of Set 7 | narsaq\n",
      "Processing Record 19 of Set 7 | djougou\n",
      "Processing Record 20 of Set 7 | klaksvik\n",
      "Processing Record 21 of Set 7 | fortuna\n",
      "Processing Record 22 of Set 7 | shieli\n",
      "Processing Record 23 of Set 7 | eenhana\n",
      "Processing Record 24 of Set 7 | anori\n",
      "Processing Record 25 of Set 7 | guerrero negro\n",
      "Processing Record 26 of Set 7 | nome\n",
      "Processing Record 27 of Set 7 | sept-iles\n",
      "Processing Record 28 of Set 7 | jabinyanah\n",
      "Processing Record 29 of Set 7 | kaniama\n",
      "Processing Record 30 of Set 7 | vera cruz\n",
      "Processing Record 31 of Set 7 | lompoc\n",
      "Processing Record 32 of Set 7 | kita\n",
      "Processing Record 33 of Set 7 | chuy\n",
      "Processing Record 34 of Set 7 | moose factory\n",
      "Processing Record 35 of Set 7 | yarmouth\n",
      "Processing Record 36 of Set 7 | half moon bay\n",
      "Processing Record 37 of Set 7 | mount isa\n",
      "City not found. Skipping...\n",
      "Processing Record 38 of Set 7 | zasheyek\n",
      "Processing Record 39 of Set 7 | brae\n",
      "Processing Record 40 of Set 7 | lianran\n",
      "Processing Record 41 of Set 7 | leningradskiy\n",
      "Processing Record 42 of Set 7 | gatton\n",
      "Processing Record 43 of Set 7 | bonthe\n",
      "Processing Record 44 of Set 7 | diffa\n",
      "Processing Record 45 of Set 7 | kupang\n",
      "Processing Record 46 of Set 7 | goderich\n",
      "Processing Record 47 of Set 7 | port blair\n",
      "Processing Record 48 of Set 7 | los llanos de aridane\n",
      "Processing Record 49 of Set 7 | hamilton\n",
      "City not found. Skipping...\n",
      "Processing Record 50 of Set 7 | ola\n",
      "Processing Record 0 of Set 8 | midland\n",
      "Processing Record 1 of Set 8 | manacapuru\n",
      "City not found. Skipping...\n",
      "Processing Record 2 of Set 8 | temiscaming\n",
      "Processing Record 3 of Set 8 | nanortalik\n",
      "City not found. Skipping...\n",
      "Processing Record 4 of Set 8 | umm kaddadah\n",
      "Processing Record 5 of Set 8 | vidim\n",
      "City not found. Skipping...\n",
      "Processing Record 6 of Set 8 | araguaina\n",
      "Processing Record 7 of Set 8 | okato\n",
      "Processing Record 8 of Set 8 | sainte-suzanne\n",
      "Processing Record 9 of Set 8 | bontang\n",
      "Processing Record 10 of Set 8 | bambanglipuro\n",
      "Processing Record 11 of Set 8 | nieves\n",
      "City not found. Skipping...\n",
      "Processing Record 12 of Set 8 | codrington\n",
      "Processing Record 13 of Set 8 | fairbanks\n",
      "Processing Record 14 of Set 8 | manokwari\n",
      "Processing Record 15 of Set 8 | portland\n"
     ]
    },
    {
     "name": "stdout",
     "output_type": "stream",
     "text": [
      "Processing Record 16 of Set 8 | shimsk\n",
      "Processing Record 17 of Set 8 | bocas del toro\n",
      "Processing Record 18 of Set 8 | corn island\n",
      "Processing Record 19 of Set 8 | toguchin\n",
      "Processing Record 20 of Set 8 | florence\n",
      "Processing Record 21 of Set 8 | bien hoa\n",
      "Processing Record 22 of Set 8 | kalmunai\n",
      "City not found. Skipping...\n",
      "Processing Record 23 of Set 8 | itoman\n",
      "Processing Record 24 of Set 8 | xining\n",
      "Processing Record 25 of Set 8 | maceio\n",
      "Processing Record 26 of Set 8 | saiha\n",
      "Processing Record 27 of Set 8 | menongue\n",
      "Processing Record 28 of Set 8 | catuday\n",
      "Processing Record 29 of Set 8 | umm lajj\n",
      "Processing Record 30 of Set 8 | xiongyue\n",
      "Processing Record 31 of Set 8 | juba\n",
      "Processing Record 32 of Set 8 | teshie\n",
      "Processing Record 33 of Set 8 | pangody\n",
      "City not found. Skipping...\n",
      "Processing Record 34 of Set 8 | imeni poliny osipenko\n",
      "City not found. Skipping...\n",
      "Processing Record 35 of Set 8 | peniche\n",
      "Processing Record 36 of Set 8 | high level\n",
      "Processing Record 37 of Set 8 | kyren\n",
      "Processing Record 38 of Set 8 | trinidad\n",
      "Processing Record 39 of Set 8 | bairiki\n",
      "Processing Record 40 of Set 8 | husavik\n",
      "Processing Record 41 of Set 8 | kurumkan\n",
      "Processing Record 42 of Set 8 | sungaipenuh\n",
      "Processing Record 43 of Set 8 | bayir\n",
      "Processing Record 44 of Set 8 | cotacachi\n",
      "Processing Record 45 of Set 8 | ouesso\n",
      "Processing Record 46 of Set 8 | sur\n",
      "Processing Record 47 of Set 8 | wadena\n",
      "Processing Record 48 of Set 8 | san ramon\n",
      "Processing Record 49 of Set 8 | calama\n",
      "Processing Record 50 of Set 8 | fiumicino\n",
      "Processing Record 0 of Set 9 | haines junction\n",
      "Processing Record 1 of Set 9 | moussoro\n",
      "Processing Record 2 of Set 9 | salekhard\n",
      "Processing Record 3 of Set 9 | palembang\n",
      "Processing Record 4 of Set 9 | trairi\n",
      "Processing Record 5 of Set 9 | sakakah\n",
      "Processing Record 6 of Set 9 | itaberaba\n",
      "Processing Record 7 of Set 9 | nortelandia\n",
      "Processing Record 8 of Set 9 | miri\n",
      "Processing Record 9 of Set 9 | adre\n",
      "Processing Record 10 of Set 9 | kizukuri\n",
      "Processing Record 11 of Set 9 | bundaberg\n",
      "Processing Record 12 of Set 9 | tortoli\n",
      "Processing Record 13 of Set 9 | parkes\n",
      "Processing Record 14 of Set 9 | puerto leguizamo\n",
      "Processing Record 15 of Set 9 | kayseri\n",
      "Processing Record 16 of Set 9 | kisangani\n",
      "Processing Record 17 of Set 9 | aklavik\n",
      "Processing Record 18 of Set 9 | dalbandin\n",
      "Processing Record 19 of Set 9 | lorengau\n",
      "Processing Record 20 of Set 9 | vestmannaeyjar\n",
      "City not found. Skipping...\n",
      "Processing Record 21 of Set 9 | victor harbor\n",
      "Processing Record 22 of Set 9 | iquique\n",
      "Processing Record 23 of Set 9 | mabaruma\n",
      "Processing Record 24 of Set 9 | bac lieu\n",
      "Processing Record 25 of Set 9 | tottori\n",
      "Processing Record 26 of Set 9 | lima\n",
      "City not found. Skipping...\n",
      "Processing Record 27 of Set 9 | marsh harbour\n",
      "City not found. Skipping...\n",
      "Processing Record 28 of Set 9 | bokoro\n",
      "Processing Record 29 of Set 9 | marsaxlokk\n",
      "Processing Record 30 of Set 9 | calderitas\n",
      "Processing Record 31 of Set 9 | tigil\n",
      "Processing Record 32 of Set 9 | puerto suarez\n",
      "Processing Record 33 of Set 9 | neryungri\n",
      "Processing Record 34 of Set 9 | taldan\n",
      "Processing Record 35 of Set 9 | kichera\n",
      "Processing Record 36 of Set 9 | smithers\n",
      "Processing Record 37 of Set 9 | revda\n",
      "Processing Record 38 of Set 9 | gunnedah\n",
      "Processing Record 39 of Set 9 | turayf\n",
      "Processing Record 40 of Set 9 | zalantun\n",
      "Processing Record 41 of Set 9 | mormugao\n",
      "Processing Record 42 of Set 9 | ostrovnoy\n",
      "Processing Record 43 of Set 9 | charters towers\n",
      "Processing Record 44 of Set 9 | gashua\n",
      "Processing Record 45 of Set 9 | eirunepe\n",
      "Processing Record 46 of Set 9 | padina\n",
      "Processing Record 47 of Set 9 | yumen\n",
      "Processing Record 48 of Set 9 | gibara\n",
      "Processing Record 49 of Set 9 | yichang\n",
      "Processing Record 50 of Set 9 | copiapo\n",
      "Processing Record 0 of Set 10 | grindavik\n",
      "Processing Record 1 of Set 10 | singkang\n",
      "City not found. Skipping...\n",
      "Processing Record 2 of Set 10 | zuenoula\n",
      "Processing Record 3 of Set 10 | dharchula\n",
      "Processing Record 4 of Set 10 | kathu\n",
      "Processing Record 5 of Set 10 | piranhas\n",
      "Processing Record 6 of Set 10 | oyek\n",
      "Processing Record 7 of Set 10 | kadhan\n",
      "Processing Record 8 of Set 10 | zlitan\n",
      "City not found. Skipping...\n",
      "Processing Record 9 of Set 10 | idar-oberstein\n",
      "Processing Record 10 of Set 10 | whitefish\n",
      "Processing Record 11 of Set 10 | mouila\n",
      "Processing Record 12 of Set 10 | moctezuma\n",
      "Processing Record 13 of Set 10 | katsuura\n",
      "Processing Record 14 of Set 10 | novo aripuana\n",
      "Processing Record 15 of Set 10 | rincon\n",
      "Processing Record 16 of Set 10 | glen allen\n",
      "Processing Record 17 of Set 10 | lingyuan\n",
      "Processing Record 18 of Set 10 | marovoay\n",
      "Processing Record 19 of Set 10 | rockland\n",
      "Processing Record 20 of Set 10 | svetlogorsk\n",
      "Processing Record 21 of Set 10 | davila\n",
      "Processing Record 22 of Set 10 | iquitos\n",
      "Processing Record 23 of Set 10 | douglas\n",
      "Processing Record 24 of Set 10 | chagoda\n",
      "Processing Record 25 of Set 10 | atar\n",
      "Processing Record 26 of Set 10 | panguna\n",
      "Processing Record 27 of Set 10 | porto santo\n",
      "Processing Record 28 of Set 10 | vila\n",
      "Processing Record 29 of Set 10 | cooma\n",
      "Processing Record 30 of Set 10 | mansa\n",
      "Processing Record 31 of Set 10 | comodoro rivadavia\n",
      "Processing Record 32 of Set 10 | rio grande\n",
      "Processing Record 33 of Set 10 | nagato\n",
      "Processing Record 34 of Set 10 | nemuro\n",
      "City not found. Skipping...\n",
      "City not found. Skipping...\n",
      "Processing Record 35 of Set 10 | broome\n",
      "Processing Record 36 of Set 10 | luderitz\n",
      "Processing Record 37 of Set 10 | mahajanga\n",
      "Processing Record 38 of Set 10 | cacoal\n",
      "Processing Record 39 of Set 10 | mana\n",
      "Processing Record 40 of Set 10 | san policarpo\n",
      "Processing Record 41 of Set 10 | namatanai\n",
      "Processing Record 42 of Set 10 | moissac\n",
      "City not found. Skipping...\n",
      "Processing Record 43 of Set 10 | port pirie\n",
      "Processing Record 44 of Set 10 | derzhavinsk\n",
      "Processing Record 45 of Set 10 | coihaique\n",
      "Processing Record 46 of Set 10 | manado\n",
      "Processing Record 47 of Set 10 | usinsk\n",
      "Processing Record 48 of Set 10 | nishihara\n",
      "Processing Record 49 of Set 10 | osinki\n",
      "Processing Record 50 of Set 10 | laguna\n",
      "Processing Record 0 of Set 11 | voh\n",
      "Processing Record 1 of Set 11 | xuanhua\n",
      "Processing Record 2 of Set 11 | khani\n",
      "Processing Record 3 of Set 11 | tessalit\n",
      "Processing Record 4 of Set 11 | talcahuano\n",
      "Processing Record 5 of Set 11 | teya\n",
      "Processing Record 6 of Set 11 | aswan\n",
      "Processing Record 7 of Set 11 | kuytun\n",
      "Processing Record 8 of Set 11 | ambon\n",
      "Processing Record 9 of Set 11 | tupik\n",
      "Processing Record 10 of Set 11 | martapura\n",
      "Processing Record 11 of Set 11 | ponta delgada\n",
      "Processing Record 12 of Set 11 | karratha\n",
      "Processing Record 13 of Set 11 | beira\n",
      "Processing Record 14 of Set 11 | jiuquan\n",
      "Processing Record 15 of Set 11 | kjollefjord\n",
      "Processing Record 16 of Set 11 | vila velha\n",
      "Processing Record 17 of Set 11 | koygorodok\n",
      "Processing Record 18 of Set 11 | de aar\n",
      "Processing Record 19 of Set 11 | ghoti\n",
      "Processing Record 20 of Set 11 | okha\n",
      "Processing Record 21 of Set 11 | camacha\n",
      "Processing Record 22 of Set 11 | marathon\n",
      "Processing Record 23 of Set 11 | preili\n",
      "Processing Record 24 of Set 11 | zholymbet\n",
      "Processing Record 25 of Set 11 | guadalajara\n",
      "Processing Record 26 of Set 11 | ridgecrest\n",
      "Processing Record 27 of Set 11 | mitsamiouli\n",
      "Processing Record 28 of Set 11 | theunissen\n",
      "Processing Record 29 of Set 11 | grand gaube\n",
      "Processing Record 30 of Set 11 | altamira\n",
      "Processing Record 31 of Set 11 | ocotepec\n",
      "Processing Record 32 of Set 11 | vitim\n",
      "Processing Record 33 of Set 11 | hinton\n",
      "Processing Record 34 of Set 11 | rio gallegos\n",
      "Processing Record 35 of Set 11 | aginskoye\n",
      "Processing Record 36 of Set 11 | mocuba\n",
      "Processing Record 37 of Set 11 | ambatofinandrahana\n",
      "Processing Record 38 of Set 11 | christchurch\n",
      "Processing Record 39 of Set 11 | mgandu\n",
      "Processing Record 40 of Set 11 | marfino\n",
      "Processing Record 41 of Set 11 | meulaboh\n",
      "Processing Record 42 of Set 11 | baykalsk\n",
      "Processing Record 43 of Set 11 | chekhov\n",
      "Processing Record 44 of Set 11 | fukue\n",
      "Processing Record 45 of Set 11 | campo grande\n",
      "Processing Record 46 of Set 11 | mbandaka\n",
      "Processing Record 47 of Set 11 | tierralta\n",
      "Processing Record 48 of Set 11 | sinnamary\n",
      "Processing Record 49 of Set 11 | estelle\n",
      "Processing Record 50 of Set 11 | north platte\n",
      "Processing Record 0 of Set 12 | shimoda\n",
      "Processing Record 1 of Set 12 | naze\n",
      "Processing Record 2 of Set 12 | hounde\n"
     ]
    },
    {
     "name": "stdout",
     "output_type": "stream",
     "text": [
      "Processing Record 3 of Set 12 | kirkenes\n",
      "Processing Record 4 of Set 12 | berja\n",
      "Processing Record 5 of Set 12 | kichmengskiy gorodok\n",
      "Processing Record 6 of Set 12 | atasu\n",
      "Processing Record 7 of Set 12 | ternate\n",
      "Processing Record 8 of Set 12 | benghazi\n",
      "Processing Record 9 of Set 12 | pio xii\n",
      "Processing Record 10 of Set 12 | pacific grove\n",
      "Processing Record 11 of Set 12 | borzna\n",
      "Processing Record 12 of Set 12 | dakar\n",
      "Processing Record 13 of Set 12 | da lat\n",
      "City not found. Skipping...\n",
      "City not found. Skipping...\n",
      "Processing Record 14 of Set 12 | baturaden\n",
      "Processing Record 15 of Set 12 | inongo\n",
      "City not found. Skipping...\n",
      "Processing Record 16 of Set 12 | yulara\n",
      "Processing Record 17 of Set 12 | srivardhan\n",
      "Processing Record 18 of Set 12 | belyy yar\n",
      "Processing Record 19 of Set 12 | fiche\n",
      "Processing Record 20 of Set 12 | dekar\n",
      "Processing Record 21 of Set 12 | kayerkan\n",
      "Processing Record 22 of Set 12 | ginir\n",
      "Processing Record 23 of Set 12 | anloga\n",
      "Processing Record 24 of Set 12 | praia da vitoria\n",
      "Processing Record 25 of Set 12 | kalabo\n",
      "Processing Record 26 of Set 12 | bagua grande\n",
      "Processing Record 27 of Set 12 | newnan\n",
      "Processing Record 28 of Set 12 | gladstone\n",
      "Processing Record 29 of Set 12 | aktau\n",
      "-----------------------------\n",
      "Data Retrieval Complete\n",
      "-----------------------------\n"
     ]
    }
   ],
   "source": [
    "\n",
    "# List/Variables setup\n",
    "city_name = []\n",
    "lat = []\n",
    "lng = []\n",
    "max_temp = []\n",
    "humidity = []\n",
    "cloudiness = []\n",
    "wind_speed = []\n",
    "country = []\n",
    "date = []\n",
    "\n",
    "record_counter = 0\n",
    "set_counter = 1\n",
    "\n",
    "# Start of Log\n",
    "print(\"Beginning Data Retrieval\")\n",
    "print(\"-----------------------------\")\n",
    "\n",
    "base_url = \"https://api.openweathermap.org/data/2.5/weather?\"\n",
    "units = \"imperial\"\n",
    "query_url = f\"{base_url}&appid={weather_api_key}&units={units}&q=\"\n",
    "\n",
    "#----BEGIN Loop----\n",
    "# Looping through cities and appending to lists\n",
    "for city in cities:\n",
    "    try:\n",
    "        response = requests.get(query_url + city).json()\n",
    "        city_name.append(response[\"name\"])\n",
    "        lat.append(response[\"coord\"][\"lat\"])\n",
    "        lng.append(response[\"coord\"][\"lon\"])\n",
    "        max_temp.append(response['main']['temp_max'])\n",
    "        humidity.append(response[\"main\"][\"humidity\"])\n",
    "        cloudiness.append(response[\"clouds\"][\"all\"])\n",
    "        wind_speed.append(response[\"wind\"][\"speed\"])\n",
    "        country.append(response[\"sys\"][\"country\"])\n",
    "        date.append(response[\"dt\"])\n",
    "        \n",
    "        # Setting limit of records per set\n",
    "        if record_counter > 49:\n",
    "            record_counter = 0\n",
    "            set_counter += 1\n",
    "        else:\n",
    "            record_counter += 1\n",
    "            \n",
    "        print(f\"Processing Record {record_counter} of Set {set_counter} | {city}\")\n",
    "    \n",
    "    except(KeyError, IndexError):\n",
    "        print(\"City not found. Skipping...\")\n",
    "\n",
    "#----END Loop-----\n",
    "\n",
    "# End of Log\n",
    "print(\"-----------------------------\")\n",
    "print(\"Data Retrieval Complete\")\n",
    "print(\"-----------------------------\") "
   ]
  },
  {
   "cell_type": "markdown",
   "metadata": {},
   "source": [
    "### Convert Raw Data to DataFrame\n",
    "* Export the city data into a .csv.\n",
    "* Display the DataFrame"
   ]
  },
  {
   "cell_type": "code",
   "execution_count": 4,
   "metadata": {},
   "outputs": [
    {
     "data": {
      "text/html": [
       "<div>\n",
       "<style scoped>\n",
       "    .dataframe tbody tr th:only-of-type {\n",
       "        vertical-align: middle;\n",
       "    }\n",
       "\n",
       "    .dataframe tbody tr th {\n",
       "        vertical-align: top;\n",
       "    }\n",
       "\n",
       "    .dataframe thead th {\n",
       "        text-align: right;\n",
       "    }\n",
       "</style>\n",
       "<table border=\"1\" class=\"dataframe\">\n",
       "  <thead>\n",
       "    <tr style=\"text-align: right;\">\n",
       "      <th></th>\n",
       "      <th>City</th>\n",
       "      <th>Lat</th>\n",
       "      <th>Lng</th>\n",
       "      <th>Max Temp</th>\n",
       "      <th>Humidity</th>\n",
       "      <th>Cloudiness</th>\n",
       "      <th>Wind Speed</th>\n",
       "      <th>Country</th>\n",
       "      <th>Date</th>\n",
       "    </tr>\n",
       "  </thead>\n",
       "  <tbody>\n",
       "    <tr>\n",
       "      <th>0</th>\n",
       "      <td>Clyde River</td>\n",
       "      <td>70.4692</td>\n",
       "      <td>-68.5914</td>\n",
       "      <td>-5.57</td>\n",
       "      <td>84</td>\n",
       "      <td>100</td>\n",
       "      <td>2.30</td>\n",
       "      <td>CA</td>\n",
       "      <td>1650126710</td>\n",
       "    </tr>\n",
       "    <tr>\n",
       "      <th>1</th>\n",
       "      <td>Tabuk</td>\n",
       "      <td>17.4189</td>\n",
       "      <td>121.4443</td>\n",
       "      <td>73.44</td>\n",
       "      <td>89</td>\n",
       "      <td>100</td>\n",
       "      <td>4.32</td>\n",
       "      <td>PH</td>\n",
       "      <td>1650126711</td>\n",
       "    </tr>\n",
       "    <tr>\n",
       "      <th>2</th>\n",
       "      <td>Punta Arenas</td>\n",
       "      <td>-53.1500</td>\n",
       "      <td>-70.9167</td>\n",
       "      <td>46.51</td>\n",
       "      <td>61</td>\n",
       "      <td>40</td>\n",
       "      <td>3.44</td>\n",
       "      <td>CL</td>\n",
       "      <td>1650126711</td>\n",
       "    </tr>\n",
       "    <tr>\n",
       "      <th>3</th>\n",
       "      <td>Busselton</td>\n",
       "      <td>-33.6500</td>\n",
       "      <td>115.3333</td>\n",
       "      <td>59.90</td>\n",
       "      <td>75</td>\n",
       "      <td>75</td>\n",
       "      <td>11.70</td>\n",
       "      <td>AU</td>\n",
       "      <td>1650126712</td>\n",
       "    </tr>\n",
       "    <tr>\n",
       "      <th>4</th>\n",
       "      <td>Port-Gentil</td>\n",
       "      <td>-0.7193</td>\n",
       "      <td>8.7815</td>\n",
       "      <td>82.27</td>\n",
       "      <td>76</td>\n",
       "      <td>91</td>\n",
       "      <td>7.16</td>\n",
       "      <td>GA</td>\n",
       "      <td>1650126712</td>\n",
       "    </tr>\n",
       "  </tbody>\n",
       "</table>\n",
       "</div>"
      ],
      "text/plain": [
       "           City      Lat       Lng  Max Temp  Humidity  Cloudiness  \\\n",
       "0   Clyde River  70.4692  -68.5914     -5.57        84         100   \n",
       "1         Tabuk  17.4189  121.4443     73.44        89         100   \n",
       "2  Punta Arenas -53.1500  -70.9167     46.51        61          40   \n",
       "3     Busselton -33.6500  115.3333     59.90        75          75   \n",
       "4   Port-Gentil  -0.7193    8.7815     82.27        76          91   \n",
       "\n",
       "   Wind Speed Country        Date  \n",
       "0        2.30      CA  1650126710  \n",
       "1        4.32      PH  1650126711  \n",
       "2        3.44      CL  1650126711  \n",
       "3       11.70      AU  1650126712  \n",
       "4        7.16      GA  1650126712  "
      ]
     },
     "execution_count": 4,
     "metadata": {},
     "output_type": "execute_result"
    }
   ],
   "source": [
    "# Making dataframe\n",
    "weatherDF = pd.DataFrame({\n",
    "    \"City\":city_name,\n",
    "    \"Lat\":lat,\n",
    "    \"Lng\":lng,\n",
    "    \"Max Temp\":max_temp,\n",
    "    \"Humidity\":humidity,\n",
    "    \"Cloudiness\":cloudiness,\n",
    "    \"Wind Speed\":wind_speed,\n",
    "    \"Country\":country,\n",
    "    \"Date\":date   \n",
    "})\n",
    "\n",
    "weatherDF.head()"
   ]
  },
  {
   "cell_type": "code",
   "execution_count": 5,
   "metadata": {},
   "outputs": [
    {
     "data": {
      "text/html": [
       "<div>\n",
       "<style scoped>\n",
       "    .dataframe tbody tr th:only-of-type {\n",
       "        vertical-align: middle;\n",
       "    }\n",
       "\n",
       "    .dataframe tbody tr th {\n",
       "        vertical-align: top;\n",
       "    }\n",
       "\n",
       "    .dataframe thead th {\n",
       "        text-align: right;\n",
       "    }\n",
       "</style>\n",
       "<table border=\"1\" class=\"dataframe\">\n",
       "  <thead>\n",
       "    <tr style=\"text-align: right;\">\n",
       "      <th></th>\n",
       "      <th>Lat</th>\n",
       "      <th>Lng</th>\n",
       "      <th>Max Temp</th>\n",
       "      <th>Humidity</th>\n",
       "      <th>Cloudiness</th>\n",
       "      <th>Wind Speed</th>\n",
       "      <th>Date</th>\n",
       "    </tr>\n",
       "  </thead>\n",
       "  <tbody>\n",
       "    <tr>\n",
       "      <th>count</th>\n",
       "      <td>590.000000</td>\n",
       "      <td>590.000000</td>\n",
       "      <td>590.000000</td>\n",
       "      <td>590.000000</td>\n",
       "      <td>590.000000</td>\n",
       "      <td>590.000000</td>\n",
       "      <td>5.900000e+02</td>\n",
       "    </tr>\n",
       "    <tr>\n",
       "      <th>mean</th>\n",
       "      <td>19.513854</td>\n",
       "      <td>22.323950</td>\n",
       "      <td>60.671966</td>\n",
       "      <td>68.750847</td>\n",
       "      <td>59.045763</td>\n",
       "      <td>8.493339</td>\n",
       "      <td>1.650127e+09</td>\n",
       "    </tr>\n",
       "    <tr>\n",
       "      <th>std</th>\n",
       "      <td>33.045570</td>\n",
       "      <td>88.584277</td>\n",
       "      <td>23.147552</td>\n",
       "      <td>21.702510</td>\n",
       "      <td>38.054598</td>\n",
       "      <td>5.730488</td>\n",
       "      <td>8.531841e+01</td>\n",
       "    </tr>\n",
       "    <tr>\n",
       "      <th>min</th>\n",
       "      <td>-54.800000</td>\n",
       "      <td>-179.166700</td>\n",
       "      <td>-13.700000</td>\n",
       "      <td>5.000000</td>\n",
       "      <td>0.000000</td>\n",
       "      <td>0.000000</td>\n",
       "      <td>1.650126e+09</td>\n",
       "    </tr>\n",
       "    <tr>\n",
       "      <th>25%</th>\n",
       "      <td>-7.500025</td>\n",
       "      <td>-54.194150</td>\n",
       "      <td>45.537500</td>\n",
       "      <td>58.000000</td>\n",
       "      <td>20.000000</td>\n",
       "      <td>3.965000</td>\n",
       "      <td>1.650127e+09</td>\n",
       "    </tr>\n",
       "    <tr>\n",
       "      <th>50%</th>\n",
       "      <td>22.728800</td>\n",
       "      <td>26.329000</td>\n",
       "      <td>66.830000</td>\n",
       "      <td>73.000000</td>\n",
       "      <td>73.000000</td>\n",
       "      <td>7.045000</td>\n",
       "      <td>1.650127e+09</td>\n",
       "    </tr>\n",
       "    <tr>\n",
       "      <th>75%</th>\n",
       "      <td>47.333675</td>\n",
       "      <td>102.724550</td>\n",
       "      <td>78.800000</td>\n",
       "      <td>85.000000</td>\n",
       "      <td>98.000000</td>\n",
       "      <td>11.875000</td>\n",
       "      <td>1.650127e+09</td>\n",
       "    </tr>\n",
       "    <tr>\n",
       "      <th>max</th>\n",
       "      <td>78.218600</td>\n",
       "      <td>179.316700</td>\n",
       "      <td>102.960000</td>\n",
       "      <td>100.000000</td>\n",
       "      <td>100.000000</td>\n",
       "      <td>33.020000</td>\n",
       "      <td>1.650127e+09</td>\n",
       "    </tr>\n",
       "  </tbody>\n",
       "</table>\n",
       "</div>"
      ],
      "text/plain": [
       "              Lat         Lng    Max Temp    Humidity  Cloudiness  Wind Speed  \\\n",
       "count  590.000000  590.000000  590.000000  590.000000  590.000000  590.000000   \n",
       "mean    19.513854   22.323950   60.671966   68.750847   59.045763    8.493339   \n",
       "std     33.045570   88.584277   23.147552   21.702510   38.054598    5.730488   \n",
       "min    -54.800000 -179.166700  -13.700000    5.000000    0.000000    0.000000   \n",
       "25%     -7.500025  -54.194150   45.537500   58.000000   20.000000    3.965000   \n",
       "50%     22.728800   26.329000   66.830000   73.000000   73.000000    7.045000   \n",
       "75%     47.333675  102.724550   78.800000   85.000000   98.000000   11.875000   \n",
       "max     78.218600  179.316700  102.960000  100.000000  100.000000   33.020000   \n",
       "\n",
       "               Date  \n",
       "count  5.900000e+02  \n",
       "mean   1.650127e+09  \n",
       "std    8.531841e+01  \n",
       "min    1.650126e+09  \n",
       "25%    1.650127e+09  \n",
       "50%    1.650127e+09  \n",
       "75%    1.650127e+09  \n",
       "max    1.650127e+09  "
      ]
     },
     "execution_count": 5,
     "metadata": {},
     "output_type": "execute_result"
    }
   ],
   "source": [
    "# Describing dataframe\n",
    "stats = weatherDF.describe(include=\"all\")\n",
    "statsDF = stats.drop(columns=[\"City\",\"Country\"],index=[\"unique\",\"top\",\"freq\"])\n",
    "statsDF"
   ]
  },
  {
   "cell_type": "code",
   "execution_count": 6,
   "metadata": {},
   "outputs": [],
   "source": [
    "weatherDF.to_csv(\"../output_data/city_data.csv\", index = False)"
   ]
  },
  {
   "cell_type": "markdown",
   "metadata": {},
   "source": [
    "## Inspect the data and remove the cities where the humidity > 100%.\n",
    "----\n",
    "Skip this step if there are no cities that have humidity > 100%. "
   ]
  },
  {
   "cell_type": "code",
   "execution_count": 7,
   "metadata": {},
   "outputs": [
    {
     "data": {
      "text/html": [
       "<div>\n",
       "<style scoped>\n",
       "    .dataframe tbody tr th:only-of-type {\n",
       "        vertical-align: middle;\n",
       "    }\n",
       "\n",
       "    .dataframe tbody tr th {\n",
       "        vertical-align: top;\n",
       "    }\n",
       "\n",
       "    .dataframe thead th {\n",
       "        text-align: right;\n",
       "    }\n",
       "</style>\n",
       "<table border=\"1\" class=\"dataframe\">\n",
       "  <thead>\n",
       "    <tr style=\"text-align: right;\">\n",
       "      <th></th>\n",
       "      <th>City</th>\n",
       "      <th>Lat</th>\n",
       "      <th>Lng</th>\n",
       "      <th>Max Temp</th>\n",
       "      <th>Humidity</th>\n",
       "      <th>Cloudiness</th>\n",
       "      <th>Wind Speed</th>\n",
       "      <th>Country</th>\n",
       "      <th>Date</th>\n",
       "    </tr>\n",
       "  </thead>\n",
       "  <tbody>\n",
       "  </tbody>\n",
       "</table>\n",
       "</div>"
      ],
      "text/plain": [
       "Empty DataFrame\n",
       "Columns: [City, Lat, Lng, Max Temp, Humidity, Cloudiness, Wind Speed, Country, Date]\n",
       "Index: []"
      ]
     },
     "execution_count": 7,
     "metadata": {},
     "output_type": "execute_result"
    }
   ],
   "source": [
    "humidDF = weatherDF.loc[(weatherDF[\"Humidity\"]>100),:]\n",
    "humidDF"
   ]
  },
  {
   "cell_type": "code",
   "execution_count": 8,
   "metadata": {},
   "outputs": [
    {
     "data": {
      "text/plain": [
       "Int64Index([], dtype='int64')"
      ]
     },
     "execution_count": 8,
     "metadata": {},
     "output_type": "execute_result"
    }
   ],
   "source": [
    "#  Get the indices of cities that have humidity over 100%.\n",
    "humidDF.index"
   ]
  },
  {
   "cell_type": "code",
   "execution_count": 17,
   "metadata": {},
   "outputs": [
    {
     "data": {
      "text/html": [
       "<div>\n",
       "<style scoped>\n",
       "    .dataframe tbody tr th:only-of-type {\n",
       "        vertical-align: middle;\n",
       "    }\n",
       "\n",
       "    .dataframe tbody tr th {\n",
       "        vertical-align: top;\n",
       "    }\n",
       "\n",
       "    .dataframe thead th {\n",
       "        text-align: right;\n",
       "    }\n",
       "</style>\n",
       "<table border=\"1\" class=\"dataframe\">\n",
       "  <thead>\n",
       "    <tr style=\"text-align: right;\">\n",
       "      <th></th>\n",
       "      <th>City</th>\n",
       "      <th>Lat</th>\n",
       "      <th>Lng</th>\n",
       "      <th>Max Temp</th>\n",
       "      <th>Humidity</th>\n",
       "      <th>Cloudiness</th>\n",
       "      <th>Wind Speed</th>\n",
       "      <th>Country</th>\n",
       "      <th>Date</th>\n",
       "    </tr>\n",
       "  </thead>\n",
       "  <tbody>\n",
       "    <tr>\n",
       "      <th>0</th>\n",
       "      <td>Clyde River</td>\n",
       "      <td>70.4692</td>\n",
       "      <td>-68.5914</td>\n",
       "      <td>-5.57</td>\n",
       "      <td>84</td>\n",
       "      <td>100</td>\n",
       "      <td>2.30</td>\n",
       "      <td>CA</td>\n",
       "      <td>1650126710</td>\n",
       "    </tr>\n",
       "    <tr>\n",
       "      <th>1</th>\n",
       "      <td>Tabuk</td>\n",
       "      <td>17.4189</td>\n",
       "      <td>121.4443</td>\n",
       "      <td>73.44</td>\n",
       "      <td>89</td>\n",
       "      <td>100</td>\n",
       "      <td>4.32</td>\n",
       "      <td>PH</td>\n",
       "      <td>1650126711</td>\n",
       "    </tr>\n",
       "    <tr>\n",
       "      <th>2</th>\n",
       "      <td>Punta Arenas</td>\n",
       "      <td>-53.1500</td>\n",
       "      <td>-70.9167</td>\n",
       "      <td>46.51</td>\n",
       "      <td>61</td>\n",
       "      <td>40</td>\n",
       "      <td>3.44</td>\n",
       "      <td>CL</td>\n",
       "      <td>1650126711</td>\n",
       "    </tr>\n",
       "    <tr>\n",
       "      <th>3</th>\n",
       "      <td>Busselton</td>\n",
       "      <td>-33.6500</td>\n",
       "      <td>115.3333</td>\n",
       "      <td>59.90</td>\n",
       "      <td>75</td>\n",
       "      <td>75</td>\n",
       "      <td>11.70</td>\n",
       "      <td>AU</td>\n",
       "      <td>1650126712</td>\n",
       "    </tr>\n",
       "    <tr>\n",
       "      <th>4</th>\n",
       "      <td>Port-Gentil</td>\n",
       "      <td>-0.7193</td>\n",
       "      <td>8.7815</td>\n",
       "      <td>82.27</td>\n",
       "      <td>76</td>\n",
       "      <td>91</td>\n",
       "      <td>7.16</td>\n",
       "      <td>GA</td>\n",
       "      <td>1650126712</td>\n",
       "    </tr>\n",
       "  </tbody>\n",
       "</table>\n",
       "</div>"
      ],
      "text/plain": [
       "           City      Lat       Lng  Max Temp  Humidity  Cloudiness  \\\n",
       "0   Clyde River  70.4692  -68.5914     -5.57        84         100   \n",
       "1         Tabuk  17.4189  121.4443     73.44        89         100   \n",
       "2  Punta Arenas -53.1500  -70.9167     46.51        61          40   \n",
       "3     Busselton -33.6500  115.3333     59.90        75          75   \n",
       "4   Port-Gentil  -0.7193    8.7815     82.27        76          91   \n",
       "\n",
       "   Wind Speed Country        Date  \n",
       "0        2.30      CA  1650126710  \n",
       "1        4.32      PH  1650126711  \n",
       "2        3.44      CL  1650126711  \n",
       "3       11.70      AU  1650126712  \n",
       "4        7.16      GA  1650126712  "
      ]
     },
     "execution_count": 17,
     "metadata": {},
     "output_type": "execute_result"
    }
   ],
   "source": [
    "# Make a new DataFrame equal to the city data to drop all humidity outliers by index.\n",
    "# Passing \"inplace=False\" will make a copy of the city_data DataFrame, which we call \"clean_city_data\".\n",
    "clean_city_data = weatherDF.drop(humidDF.index, inplace=False)\n",
    "clean_city_data.head()"
   ]
  },
  {
   "cell_type": "markdown",
   "metadata": {},
   "source": [
    "## Plotting the Data\n",
    "* Use proper labeling of the plots using plot titles (including date of analysis) and axes labels.\n",
    "* Save the plotted figures as .pngs in the output_data folder"
   ]
  },
  {
   "cell_type": "markdown",
   "metadata": {},
   "source": [
    "## Latitude vs. Temperature Plot"
   ]
  },
  {
   "cell_type": "code",
   "execution_count": 18,
   "metadata": {
    "scrolled": true
   },
   "outputs": [
    {
     "data": {
      "image/png": "[encoded data removed]",
      "text/plain": [
       "<Figure size 432x288 with 1 Axes>"
      ]
     },
     "metadata": {
      "needs_background": "light"
     },
     "output_type": "display_data"
    }
   ],
   "source": [
    "# Setup variable for time chart was run\n",
    "dateLabel = time.strftime(\"%m-%d-%Y\", time.localtime())\n",
    "\n",
    "x = clean_city_data[\"Lat\"]\n",
    "t = clean_city_data[\"Max Temp\"]\n",
    "plt.scatter(x,t)\n",
    "plt.title(f\"City Latitude vs. Max Temperature ({dateLabel})\")\n",
    "plt.xlabel(\"Latitude\")\n",
    "plt.ylabel(\"Max Temperature (F)\")\n",
    "plt.grid()\n",
    "plt.savefig(\"../Images/Latitude_vs_Temperature\")\n",
    "plt.show()"
   ]
  },
  {
   "cell_type": "markdown",
   "metadata": {},
   "source": [
    "Temperature increases as you approach equator and decreases as you move away."
   ]
  },
  {
   "cell_type": "markdown",
   "metadata": {},
   "source": [
    "## Latitude vs. Humidity Plot"
   ]
  },
  {
   "cell_type": "code",
   "execution_count": 19,
   "metadata": {},
   "outputs": [
    {
     "data": {
      "image/png": "[encoded data removed]",
      "text/plain": [
       "<Figure size 432x288 with 1 Axes>"
      ]
     },
     "metadata": {
      "needs_background": "light"
     },
     "output_type": "display_data"
    }
   ],
   "source": [
    "\n",
    "h = clean_city_data[\"Humidity\"]\n",
    "plt.scatter(x,h)\n",
    "plt.title(f\"City Latitude vs. Humidity ({dateLabel})\")\n",
    "plt.xlabel(\"Latitude\")\n",
    "plt.ylabel(\"Humidity (%)\")\n",
    "plt.grid()\n",
    "plt.savefig(\"../Images/Latitude_vs_Humidity\")\n",
    "plt.show()"
   ]
  },
  {
   "cell_type": "markdown",
   "metadata": {},
   "source": [
    "Hard to tell if latitude has relation ship with humidity, there is a cluster of high humidity with increase in latitude."
   ]
  },
  {
   "cell_type": "markdown",
   "metadata": {},
   "source": [
    "## Latitude vs. Cloudiness Plot"
   ]
  },
  {
   "cell_type": "code",
   "execution_count": 20,
   "metadata": {},
   "outputs": [
    {
     "data": {
      "image/png": "[encoded data removed]",
      "text/plain": [
       "<Figure size 432x288 with 1 Axes>"
      ]
     },
     "metadata": {
      "needs_background": "light"
     },
     "output_type": "display_data"
    }
   ],
   "source": [
    "\n",
    "c = clean_city_data[\"Cloudiness\"]\n",
    "plt.scatter(x,c)\n",
    "plt.title(f\"City Latitude vs. Cloudiness ({dateLabel})\")\n",
    "plt.xlabel(\"Latitude\")\n",
    "plt.ylabel(\"Cloudiness (%)\")\n",
    "plt.grid()\n",
    "plt.savefig(\"../Images/Latitude_vs_Cloudiness\")\n",
    "plt.show()"
   ]
  },
  {
   "cell_type": "markdown",
   "metadata": {},
   "source": [
    "Cannot determine anything from the plot, hard to compare latitude and cloudiness."
   ]
  },
  {
   "cell_type": "markdown",
   "metadata": {},
   "source": [
    "## Latitude vs. Wind Speed Plot"
   ]
  },
  {
   "cell_type": "code",
   "execution_count": 21,
   "metadata": {},
   "outputs": [
    {
     "data": {
      "image/png": "[encoded data removed]",
      "text/plain": [
       "<Figure size 432x288 with 1 Axes>"
      ]
     },
     "metadata": {
      "needs_background": "light"
     },
     "output_type": "display_data"
    }
   ],
   "source": [
    "w = clean_city_data[\"Wind Speed\"]\n",
    "plt.scatter(x,w)\n",
    "plt.title(f\"City Latitude vs. Wind Speed ({dateLabel})\")\n",
    "plt.xlabel(\"Latitude\")\n",
    "plt.ylabel(\"Wind Speed (mph)\")\n",
    "plt.grid()\n",
    "plt.savefig(\"../Images/Latitude_vs_Windspeed\")\n",
    "plt.show()"
   ]
  },
  {
   "cell_type": "markdown",
   "metadata": {},
   "source": [
    "Even distribution of wind speed by latitude, some outliers in the higher latitudes."
   ]
  },
  {
   "cell_type": "markdown",
   "metadata": {},
   "source": [
    "## Linear Regression"
   ]
  },
  {
   "cell_type": "code",
   "execution_count": 22,
   "metadata": {},
   "outputs": [],
   "source": [
    "# Making dataframe for each hemisphere\n",
    "northHemi = clean_city_data.loc[clean_city_data[\"Lat\"] >= 0,:]\n",
    "southHemi = clean_city_data.loc[clean_city_data[\"Lat\"] < 0,:]"
   ]
  },
  {
   "cell_type": "markdown",
   "metadata": {},
   "source": [
    "####  Northern Hemisphere - Max Temp vs. Latitude Linear Regression"
   ]
  },
  {
   "cell_type": "code",
   "execution_count": 31,
   "metadata": {},
   "outputs": [
    {
     "name": "stdout",
     "output_type": "stream",
     "text": [
      "The r-value \u001b[34mis\u001b[0m: -0.8565492516518622\n"
     ]
    },
    {
     "data": {
      "image/png": "[encoded data removed]",
      "text/plain": [
       "<Figure size 432x288 with 1 Axes>"
      ]
     },
     "metadata": {
      "needs_background": "light"
     },
     "output_type": "display_data"
    }
   ],
   "source": [
    "\n",
    "nx = northHemi[\"Lat\"]\n",
    "nt = northHemi[\"Max Temp\"]\n",
    "\n",
    "(slope, intercept, rvalue, pvalue, stderr) = linregress(nx,nt)\n",
    "regress_values = nx * slope + intercept\n",
    "line_eq = \"y = \" + str(round(slope,2)) + \"x + \" + str(round(intercept,2))\n",
    "plt.scatter(nx,nt)\n",
    "plt.plot(nx,regress_values,\"r-\")\n",
    "plt.annotate(line_eq,(8,0),fontsize=12,color=\"red\")\n",
    "plt.xlabel(\"Latitude\")\n",
    "plt.ylabel(\"Max Temp\")\n",
    "\n",
    "plt.savefig(\"../Images/NorthernHemisphere_Latitude_vs_MaxTemp\")\n",
    "\n",
    "print(f\"The r-value \\033[34mis\\033[0m: {rvalue}\")"
   ]
  },
  {
   "cell_type": "markdown",
   "metadata": {},
   "source": [
    "Strong correlation with latitude and temperature in the northern hemisphere"
   ]
  },
  {
   "cell_type": "markdown",
   "metadata": {},
   "source": [
    "####  Southern Hemisphere - Max Temp vs. Latitude Linear Regression"
   ]
  },
  {
   "cell_type": "code",
   "execution_count": 34,
   "metadata": {},
   "outputs": [
    {
     "name": "stdout",
     "output_type": "stream",
     "text": [
      "The r-value \u001b[34mis\u001b[0m: 0.7723345642841619\n"
     ]
    },
    {
     "data": {
      "image/png": "[encoded data removed]",
      "text/plain": [
       "<Figure size 432x288 with 1 Axes>"
      ]
     },
     "metadata": {
      "needs_background": "light"
     },
     "output_type": "display_data"
    }
   ],
   "source": [
    "sx = southHemi[\"Lat\"]\n",
    "st = southHemi[\"Max Temp\"]\n",
    "\n",
    "(slope, intercept, rvalue, pvalue, stderr) = linregress(sx,st)\n",
    "regress_values = sx * slope + intercept\n",
    "line_eq = \"y = \" + str(round(slope,2)) + \"x + \" + str(round(intercept,2))\n",
    "plt.scatter(sx,st)\n",
    "plt.plot(sx,regress_values,\"r-\")\n",
    "plt.annotate(line_eq,(-20,50),fontsize=12,color=\"red\")\n",
    "plt.xlabel(\"Latitude\")\n",
    "plt.ylabel(\"Max Temp\")\n",
    "\n",
    "plt.savefig(\"../Images/SouthernHemisphere_Latitude_vs_MaxTemp\")\n",
    "\n",
    "print(f\"The r-value \\033[34mis\\033[0m: {rvalue}\")"
   ]
  },
  {
   "cell_type": "markdown",
   "metadata": {},
   "source": [
    "Strong correlation with latitude and temperature in the southern hemisphere"
   ]
  },
  {
   "cell_type": "markdown",
   "metadata": {},
   "source": [
    "####  Northern Hemisphere - Humidity (%) vs. Latitude Linear Regression"
   ]
  },
  {
   "cell_type": "code",
   "execution_count": 37,
   "metadata": {},
   "outputs": [
    {
     "name": "stdout",
     "output_type": "stream",
     "text": [
      "The r-value \u001b[34mis\u001b[0m: 0.3036686735139129\n"
     ]
    },
    {
     "data": {
      "image/png": "[encoded data removed]",
      "text/plain": [
       "<Figure size 432x288 with 1 Axes>"
      ]
     },
     "metadata": {
      "needs_background": "light"
     },
     "output_type": "display_data"
    }
   ],
   "source": [
    "nh = northHemi[\"Humidity\"]\n",
    "\n",
    "(slope, intercept, rvalue, pvalue, stderr) = linregress(nx,nh)\n",
    "regress_values = nx * slope + intercept\n",
    "line_eq = \"y = \" + str(round(slope,2)) + \"x + \" + str(round(intercept,2))\n",
    "plt.scatter(nx,nh)\n",
    "plt.plot(nx,regress_values,\"r-\")\n",
    "plt.annotate(line_eq,(50,20),fontsize=12,color=\"red\")\n",
    "plt.xlabel(\"Latitude\")\n",
    "plt.ylabel(\"Humidity\")\n",
    "\n",
    "plt.savefig(\"../Images/NorthernHemisphere_Latitude_vs_Humidity\")\n",
    "\n",
    "print(f\"The r-value \\033[34mis\\033[0m: {rvalue}\")"
   ]
  },
  {
   "cell_type": "markdown",
   "metadata": {},
   "source": [
    "Weak correlation with latitude and humidity in the northern hemisphere."
   ]
  },
  {
   "cell_type": "markdown",
   "metadata": {},
   "source": [
    "####  Southern Hemisphere - Humidity (%) vs. Latitude Linear Regression"
   ]
  },
  {
   "cell_type": "code",
   "execution_count": 44,
   "metadata": {},
   "outputs": [
    {
     "name": "stdout",
     "output_type": "stream",
     "text": [
      "The r-value \u001b[34mis\u001b[0m: 0.2236493518317334\n"
     ]
    },
    {
     "data": {
      "image/png": "[encoded data removed]",
      "text/plain": [
       "<Figure size 432x288 with 1 Axes>"
      ]
     },
     "metadata": {
      "needs_background": "light"
     },
     "output_type": "display_data"
    }
   ],
   "source": [
    "sh = southHemi[\"Humidity\"]\n",
    "\n",
    "(slope, intercept, rvalue, pvalue, stderr) = linregress(sx,sh)\n",
    "regress_values = sx * slope + intercept\n",
    "line_eq = \"y = \" + str(round(slope,2)) + \"x + \" + str(round(intercept,2))\n",
    "plt.scatter(sx,sh)\n",
    "plt.plot(sx,regress_values,\"r-\")\n",
    "plt.annotate(line_eq,(-20,20),fontsize=12,color=\"red\")\n",
    "plt.xlabel(\"Latitude\")\n",
    "plt.ylabel(\"Humidity\")\n",
    "\n",
    "plt.savefig(\"../Images/SouthernHemisphere_Latitude_vs_Humidity\")\n",
    "\n",
    "print(f\"The r-value \\033[34mis\\033[0m: {rvalue}\")"
   ]
  },
  {
   "cell_type": "markdown",
   "metadata": {},
   "source": [
    "None or very weak correlation with latitude and humidity in the southern hemisphere."
   ]
  },
  {
   "cell_type": "markdown",
   "metadata": {},
   "source": [
    "####  Northern Hemisphere - Cloudiness (%) vs. Latitude Linear Regression"
   ]
  },
  {
   "cell_type": "code",
   "execution_count": 40,
   "metadata": {},
   "outputs": [
    {
     "name": "stdout",
     "output_type": "stream",
     "text": [
      "The r-value \u001b[34mis\u001b[0m: 0.12112588350903514\n"
     ]
    },
    {
     "data": {
      "image/png": "[encoded data removed]",
      "text/plain": [
       "<Figure size 432x288 with 1 Axes>"
      ]
     },
     "metadata": {
      "needs_background": "light"
     },
     "output_type": "display_data"
    }
   ],
   "source": [
    "nc = northHemi[\"Cloudiness\"]\n",
    "\n",
    "(slope, intercept, rvalue, pvalue, stderr) = linregress(nx,nc)\n",
    "regress_values = nx * slope + intercept\n",
    "line_eq = \"y = \" + str(round(slope,2)) + \"x + \" + str(round(intercept,2))\n",
    "plt.scatter(nx,nc)\n",
    "plt.plot(nx,regress_values,\"r-\")\n",
    "plt.annotate(line_eq,(50,50),fontsize=12,color=\"red\")\n",
    "plt.xlabel(\"Latitude\")\n",
    "plt.ylabel(\"Cloudiness\")\n",
    "\n",
    "plt.savefig(\"../Images/NorthernHemisphere_Latitude_vs_Cloudiness\")\n",
    "\n",
    "print(f\"The r-value \\033[34mis\\033[0m: {rvalue}\")"
   ]
  },
  {
   "cell_type": "markdown",
   "metadata": {},
   "source": [
    "None or very weak correlation with latitude and cloudiness in the northern hemisphere."
   ]
  },
  {
   "cell_type": "markdown",
   "metadata": {},
   "source": [
    "####  Southern Hemisphere - Cloudiness (%) vs. Latitude Linear Regression"
   ]
  },
  {
   "cell_type": "code",
   "execution_count": 51,
   "metadata": {},
   "outputs": [
    {
     "name": "stdout",
     "output_type": "stream",
     "text": [
      "The r-value \u001b[34mis\u001b[0m: 0.32252817638998216\n"
     ]
    },
    {
     "data": {
      "image/png": "[encoded data removed]",
      "text/plain": [
       "<Figure size 432x288 with 1 Axes>"
      ]
     },
     "metadata": {
      "needs_background": "light"
     },
     "output_type": "display_data"
    }
   ],
   "source": [
    "sc = southHemi[\"Cloudiness\"]\n",
    "\n",
    "(slope, intercept, rvalue, pvalue, stderr) = linregress(sx,sc)\n",
    "regress_values = sx * slope + intercept\n",
    "line_eq = \"y = \" + str(round(slope,2)) + \"x + \" + str(round(intercept,2))\n",
    "plt.scatter(sx,sc)\n",
    "plt.plot(sx,regress_values,\"r-\")\n",
    "plt.annotate(line_eq,(-50,12),fontsize=12,color=\"red\")\n",
    "plt.xlabel(\"Latitude\")\n",
    "plt.ylabel(\"Cloudiness\")\n",
    "\n",
    "plt.savefig(\"../Images/SouthernHemisphere_Latitude_vs_Cloudiness\")\n",
    "\n",
    "print(f\"The r-value \\033[34mis\\033[0m: {rvalue}\")"
   ]
  },
  {
   "cell_type": "markdown",
   "metadata": {},
   "source": [
    "Weak correlation with latitude and cloudiness in the southern hemisphere."
   ]
  },
  {
   "cell_type": "markdown",
   "metadata": {},
   "source": [
    "####  Northern Hemisphere - Wind Speed (mph) vs. Latitude Linear Regression"
   ]
  },
  {
   "cell_type": "code",
   "execution_count": 42,
   "metadata": {},
   "outputs": [
    {
     "name": "stdout",
     "output_type": "stream",
     "text": [
      "The r-value \u001b[34mis\u001b[0m: 0.10206216955992276\n"
     ]
    },
    {
     "data": {
      "image/png": "[encoded data removed]",
      "text/plain": [
       "<Figure size 432x288 with 1 Axes>"
      ]
     },
     "metadata": {
      "needs_background": "light"
     },
     "output_type": "display_data"
    }
   ],
   "source": [
    "nw = northHemi[\"Wind Speed\"]\n",
    "\n",
    "(slope, intercept, rvalue, pvalue, stderr) = linregress(nx,nw)\n",
    "regress_values = nx * slope + intercept\n",
    "line_eq = \"y = \" + str(round(slope,2)) + \"x + \" + str(round(intercept,2))\n",
    "plt.scatter(nx,nw)\n",
    "plt.plot(nx,regress_values,\"r-\")\n",
    "plt.annotate(line_eq,(8,30),fontsize=12,color=\"red\")\n",
    "plt.xlabel(\"Latitude\")\n",
    "plt.ylabel(\"Wind Speed\")\n",
    "\n",
    "plt.savefig(\"../Images/NorthernHemisphere_Latitude_vs_WindSpeed\")\n",
    "\n",
    "print(f\"The r-value \\033[34mis\\033[0m: {rvalue}\")"
   ]
  },
  {
   "cell_type": "markdown",
   "metadata": {},
   "source": [
    "None or very weak correlation with latitude and wind speed in the northern hemisphere."
   ]
  },
  {
   "cell_type": "markdown",
   "metadata": {},
   "source": [
    "####  Southern Hemisphere - Wind Speed (mph) vs. Latitude Linear Regression"
   ]
  },
  {
   "cell_type": "code",
   "execution_count": 53,
   "metadata": {},
   "outputs": [
    {
     "name": "stdout",
     "output_type": "stream",
     "text": [
      "The r-value \u001b[34mis\u001b[0m: -0.1950934885265201\n"
     ]
    },
    {
     "data": {
      "image/png": "[encoded data removed]",
      "text/plain": [
       "<Figure size 432x288 with 1 Axes>"
      ]
     },
     "metadata": {
      "needs_background": "light"
     },
     "output_type": "display_data"
    }
   ],
   "source": [
    "sw = southHemi[\"Wind Speed\"]\n",
    "\n",
    "(slope, intercept, rvalue, pvalue, stderr) = linregress(sx,sw)\n",
    "regress_values = sx * slope + intercept\n",
    "line_eq = \"y = \" + str(round(slope,2)) + \"x + \" + str(round(intercept,2))\n",
    "plt.scatter(sx,sw)\n",
    "plt.plot(sx,regress_values,\"r-\")\n",
    "plt.annotate(line_eq,(-50,20),fontsize=12,color=\"red\")\n",
    "plt.xlabel(\"Latitude\")\n",
    "plt.ylabel(\"Wind Speed\")\n",
    "\n",
    "plt.savefig(\"../Images/SouthernHemisphere_Latitude_vs_WindSpeed\")\n",
    "\n",
    "print(f\"The r-value \\033[34mis\\033[0m: {rvalue}\")"
   ]
  },
  {
   "cell_type": "markdown",
   "metadata": {},
   "source": [
    "None or very weak correlation with latitude and wind speed in the southern hemisphere."
   ]
  }
 ],
 "metadata": {
  "anaconda-cloud": {},
  "kernel_info": {
   "name": "python3"
  },
  "kernelspec": {
   "display_name": "Python 3 (ipykernel)",
   "language": "python",
   "name": "python3"
  },
  "language_info": {
   "codemirror_mode": {
    "name": "ipython",
    "version": 3
   },
   "file_extension": ".py",
   "mimetype": "text/x-python",
   "name": "python",
   "nbconvert_exporter": "python",
   "pygments_lexer": "ipython3",
   "version": "3.8.12"
  },
  "latex_envs": {
   "LaTeX_envs_menu_present": true,
   "autoclose": false,
   "autocomplete": true,
   "bibliofile": "biblio.bib",
   "cite_by": "apalike",
   "current_citInitial": 1,
   "eqLabelWithNumbers": true,
   "eqNumInitial": 1,
   "hotkeys": {
    "equation": "Ctrl-E",
    "itemize": "Ctrl-I"
   },
   "labels_anchors": false,
   "latex_user_defs": false,
   "report_style_numbering": false,
   "user_envs_cfg": false
  },
  "nteract": {
   "version": "0.12.3"
  }
 },
 "nbformat": 4,
 "nbformat_minor": 2
}
